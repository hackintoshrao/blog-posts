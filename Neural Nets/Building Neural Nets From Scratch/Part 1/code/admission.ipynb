{
 "cells": [
  {
   "cell_type": "code",
   "execution_count": 5,
   "metadata": {
    "collapsed": false
   },
   "outputs": [
    {
     "name": "stdout",
     "output_type": "stream",
     "text": [
      "   test_scores    grades   admitted\n",
      "0      0.78051 -0.063669          1\n",
      "1      0.28774  0.291390          1\n",
      "2      0.85176  0.661200          0\n",
      "3      0.60436  0.866050          0\n",
      "4      0.40714  0.178780          1\n"
     ]
    }
   ],
   "source": [
    "import pandas as pd \n",
    "# read the data file.\n",
    "data = pd.read_csv(\"admission_data.csv\")\n",
    "# Print first few elements.\n",
    "print(data.head())"
   ]
  }
 ],
 "metadata": {
  "kernelspec": {
   "display_name": "Python 2",
   "language": "python",
   "name": "python2"
  },
  "language_info": {
   "codemirror_mode": {
    "name": "ipython",
    "version": 2
   },
   "file_extension": ".py",
   "mimetype": "text/x-python",
   "name": "python",
   "nbconvert_exporter": "python",
   "pygments_lexer": "ipython2",
   "version": "2.7.12"
  }
 },
 "nbformat": 4,
 "nbformat_minor": 2
}
