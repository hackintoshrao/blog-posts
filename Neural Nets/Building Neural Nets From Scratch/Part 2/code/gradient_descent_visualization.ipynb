{
 "cells": [
  {
   "cell_type": "code",
   "execution_count": 10,
   "metadata": {
    "collapsed": false,
    "scrolled": true
   },
   "outputs": [
    {
     "name": "stdout",
     "output_type": "stream",
     "text": [
      "   satisfaction_level  last_evaluation  number_project  average_montly_hours  \\\n",
      "0                0.38             0.53               2                   157   \n",
      "1                0.80             0.86               5                   262   \n",
      "2                0.11             0.88               7                   272   \n",
      "3                0.72             0.87               5                   223   \n",
      "4                0.37             0.52               2                   159   \n",
      "\n",
      "   time_spend_company  Work_accident  left  promotion_last_5years  sales  \\\n",
      "0                   3              0     1                      0  sales   \n",
      "1                   6              0     1                      0  sales   \n",
      "2                   4              0     1                      0  sales   \n",
      "3                   5              0     1                      0  sales   \n",
      "4                   3              0     1                      0  sales   \n",
      "\n",
      "   salary  \n",
      "0     low  \n",
      "1  medium  \n",
      "2  medium  \n",
      "3     low  \n",
      "4     low  \n",
      "   satisfaction_level  last_evaluation  left\n",
      "0                0.38             0.53     1\n",
      "1                0.80             0.86     1\n",
      "2                0.11             0.88     1\n",
      "3                0.72             0.87     1\n",
      "4                0.37             0.52     1\n"
     ]
    }
   ],
   "source": [
    "import pandas as pd\n",
    "import requests\n",
    "import io\n",
    "import math \n",
    "import numpy as np\n",
    "# Fetch the data \n",
    "url = \"https://raw.githubusercontent.com/hackintoshrao/blog-posts/master/Neural%20Nets/Building%20Neural%20Nets%20From%20Scratch/Part%202/code/HR_comma_sep.csv\"\n",
    "data = pd.read_csv(io.StringIO(s.decode('utf-8')))\n",
    "# Display few elements of the data.\n",
    "print(data.head())\n",
    "\n",
    "new = data.filter([\"satisfaction_level\",\"last_evaluation\",\"left\"],axis=1)\n",
    "print(new.head())\n",
    "\n",
    "\n",
    "\n"
   ]
  },
  {
   "cell_type": "code",
   "execution_count": null,
   "metadata": {
    "collapsed": true
   },
   "outputs": [],
   "source": [
    "##The sigmoid function adjusts the cost function hypotheses to adjust the algorithm proportionally for worse estimations\n",
    "def Sigmoid(z):\n",
    "\tG_of_Z = float(1.0 / float((1.0 + math.exp(-1.0*z))))\n",
    "\treturn G_of_Z \n",
    "\n",
    "##The hypothesis is the linear combination of all the known factors x[i] and their current estimated coefficients theta[i] \n",
    "##This hypothesis will be used to calculate each instance of the Cost Function\n",
    "def Hypothesis(theta, x):\n",
    "\tz = 0\n",
    "\tfor i in xrange(len(theta)):\n",
    "\t\tz += x[i]*theta[i]\n",
    "    \n",
    "\treturn Sigmoid(z)\n",
    "\n",
    "##For each member of the dataset, the result (Y) determines which variation of the cost function is used\n",
    "##The Y = 0 cost function punishes high probability estimations, and the Y = 1 it punishes low scores\n",
    "##The \"punishment\" makes the change in the gradient of ThetaCurrent - Average(CostFunction(Dataset)) greater\n",
    "def Cost_Function(X,Y,theta,m):\n",
    "\tsumOfErrors = 0\n",
    "\tfor i in xrange(m):\n",
    "\t\txi = X[i]\n",
    "\t\thi = Hypothesis(theta,xi)\n",
    "\t\tif Y[i] == 1:\n",
    "\t\t\terror = Y[i] * math.log(hi)\n",
    "\t\telif Y[i] == 0:\n",
    "\t\t\terror = (1-Y[i]) * math.log(1-hi)\n",
    "\t\tsumOfErrors += error\n",
    "\tconst = -1/m\n",
    "\tJ = const * sumOfErrors\n",
    "\tprint 'cost is ', J \n",
    "\treturn J\n"
   ]
  }
 ],
 "metadata": {
  "kernelspec": {
   "display_name": "Python 2",
   "language": "python",
   "name": "python2"
  },
  "language_info": {
   "codemirror_mode": {
    "name": "ipython",
    "version": 2
   },
   "file_extension": ".py",
   "mimetype": "text/x-python",
   "name": "python",
   "nbconvert_exporter": "python",
   "pygments_lexer": "ipython2",
   "version": "2.7.12"
  }
 },
 "nbformat": 4,
 "nbformat_minor": 2
}
