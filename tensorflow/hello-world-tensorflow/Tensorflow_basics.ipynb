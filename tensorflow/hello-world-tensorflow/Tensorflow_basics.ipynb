{
  "nbformat": 4,
  "nbformat_minor": 0,
  "metadata": {
    "colab": {
      "name": "Tensorflow basics",
      "version": "0.3.2",
      "views": {},
      "default_view": {},
      "provenance": [
        {
          "file_id": "/v2/external/notebooks/gpu.ipynb",
          "timestamp": 1522764887924
        }
      ],
      "collapsed_sections": [],
      "toc_visible": true
    },
    "kernelspec": {
      "display_name": "Python 2",
      "name": "python2"
    },
    "accelerator": "GPU"
  },
  "cells": [
    {
      "metadata": {
        "id": "3IEVK-KFxi5Z",
        "colab_type": "code",
        "colab": {
          "autoexec": {
            "startup": false,
            "wait_interval": 0
          },
          "output_extras": [
            {
              "item_id": 1
            }
          ],
          "base_uri": "https://localhost:8080/",
          "height": 34
        },
        "outputId": "41de3c7c-28ea-48d6-f57d-6da9ac730daa",
        "executionInfo": {
          "status": "ok",
          "timestamp": 1522765008394,
          "user_tz": -330,
          "elapsed": 858,
          "user": {
            "displayName": "karthic rao",
            "photoUrl": "//lh4.googleusercontent.com/-IjQPV2IT_dg/AAAAAAAAAAI/AAAAAAAAAKY/koCnnupHc0Y/s50-c-k-no/photo.jpg",
            "userId": "117034387844131328042"
          }
        }
      },
      "cell_type": "code",
      "source": [
        "import tensorflow as tf\n",
        "\n",
        "# Import `tensorflow` \n",
        "\n",
        "\n",
        "# Initialize two constants\n",
        "x1 = tf.constant([1,2,3,4])\n",
        "x2 = tf.constant([5,6,7,8])\n",
        "\n",
        "# Multiply\n",
        "result = tf.multiply(x1, x2)\n",
        "\n",
        "# Intialize the Session\n",
        "sess = tf.Session()\n",
        "\n",
        "# Print the result\n",
        "print(sess.run(result))\n",
        "\n",
        "# Close the session\n",
        "sess.close()"
      ],
      "execution_count": 3,
      "outputs": [
        {
          "output_type": "stream",
          "text": [
            "[ 5 12 21 32]\n"
          ],
          "name": "stdout"
        }
      ]
    },
    {
      "metadata": {
        "id": "9KdRGT1q3odO",
        "colab_type": "code",
        "colab": {
          "autoexec": {
            "startup": false,
            "wait_interval": 0
          },
          "output_extras": [
            {
              "item_id": 1
            }
          ],
          "base_uri": "https://localhost:8080/",
          "height": 34
        },
        "outputId": "0bcf5461-bf9f-41b8-a7b1-728f6d87fb2d",
        "executionInfo": {
          "status": "ok",
          "timestamp": 1522765059402,
          "user_tz": -330,
          "elapsed": 1268,
          "user": {
            "displayName": "karthic rao",
            "photoUrl": "//lh4.googleusercontent.com/-IjQPV2IT_dg/AAAAAAAAAAI/AAAAAAAAAKY/koCnnupHc0Y/s50-c-k-no/photo.jpg",
            "userId": "117034387844131328042"
          }
        }
      },
      "cell_type": "code",
      "source": [
        "# Import `tensorflow`\n",
        "import tensorflow as tf\n",
        "\n",
        "# Initialize two constants\n",
        "x1 = tf.constant([1,2,3,4])\n",
        "x2 = tf.constant([5,6,7,8])\n",
        "\n",
        "# Multiply\n",
        "result = tf.multiply(x1, x2)\n",
        "\n",
        "# Initialize Session and run `result`\n",
        "with tf.Session() as sess:\n",
        "  output = sess.run(result)\n",
        "  print(output)"
      ],
      "execution_count": 4,
      "outputs": [
        {
          "output_type": "stream",
          "text": [
            "[ 5 12 21 32]\n"
          ],
          "name": "stdout"
        }
      ]
    },
    {
      "metadata": {
        "id": "Z5oQSHnP3z5m",
        "colab_type": "code",
        "colab": {
          "autoexec": {
            "startup": false,
            "wait_interval": 0
          }
        }
      },
      "cell_type": "code",
      "source": [
        "new_graph = tf.Graph()\n",
        "\n",
        "with new_graph.as_default():\n",
        "    new_g_const = tf.constant([1., 2.])"
      ],
      "execution_count": 0,
      "outputs": []
    },
    {
      "metadata": {
        "id": "SPIyCiyH348i",
        "colab_type": "code",
        "colab": {
          "autoexec": {
            "startup": false,
            "wait_interval": 0
          },
          "output_extras": [
            {
              "item_id": 1
            }
          ],
          "base_uri": "https://localhost:8080/",
          "height": 34
        },
        "outputId": "4ac968d4-b6bd-4039-c4a4-10e217727d36",
        "executionInfo": {
          "status": "ok",
          "timestamp": 1522765110048,
          "user_tz": -330,
          "elapsed": 890,
          "user": {
            "displayName": "karthic rao",
            "photoUrl": "//lh4.googleusercontent.com/-IjQPV2IT_dg/AAAAAAAAAAI/AAAAAAAAAKY/koCnnupHc0Y/s50-c-k-no/photo.jpg",
            "userId": "117034387844131328042"
          }
        }
      },
      "cell_type": "code",
      "source": [
        "sess = tf.InteractiveSession()\n",
        "a = tf.constant(1)\n",
        "b = tf.constant(2)\n",
        "c = a + b\n",
        "# instead of sess.run(c)\n",
        "c.eval()"
      ],
      "execution_count": 6,
      "outputs": [
        {
          "output_type": "execute_result",
          "data": {
            "text/plain": [
              "3"
            ]
          },
          "metadata": {
            "tags": []
          },
          "execution_count": 6
        }
      ]
    },
    {
      "metadata": {
        "id": "3C9UVTQK5XEo",
        "colab_type": "text"
      },
      "cell_type": "markdown",
      "source": [
        "Tensor\n",
        "\n",
        "In TensorFlow, data isn’t stored as integers, floats, or strings. These values are encapsulated in an object called a tensor. In the case of hello_constant = tf.constant('Hello World!'), hello_constant is a 0-dimensional string tensor, but tensors come in a variety of sizes as shown below:"
      ]
    },
    {
      "metadata": {
        "id": "kpy8aiK-5XVA",
        "colab_type": "code",
        "colab": {
          "autoexec": {
            "startup": false,
            "wait_interval": 0
          }
        }
      },
      "cell_type": "code",
      "source": [
        "import tensorflow as tf\n",
        "# You can create constants in TF to hold specific values\n",
        "a = tf.constant(1)\n",
        "b = tf.constant(2)"
      ],
      "execution_count": 0,
      "outputs": []
    },
    {
      "metadata": {
        "id": "1IR6c5Bw5JLk",
        "colab_type": "text"
      },
      "cell_type": "markdown",
      "source": [
        "**Session**\n",
        "\n",
        "TensorFlow’s api is built around the idea of a computational graph, a way of visualizing a mathematical process. Let’s take the TensorFlow code you ran and turn that into a graph:\n",
        "\n",
        "The code has already created the tensor, hello_constant, from the previous lines. The next step is to evaluate the tensor in a session.\n",
        "\n",
        "\n",
        "**Running a session**\n",
        "\n",
        "The code creates a session instance, sess, using tf.Session. The sess.run() function then evaluates the tensor and returns the results.\n",
        "\n",
        "After you run the above, you will see the following printed out:"
      ]
    },
    {
      "metadata": {
        "id": "24Q0fB-y4xUO",
        "colab_type": "code",
        "colab": {
          "autoexec": {
            "startup": false,
            "wait_interval": 0
          },
          "output_extras": [
            {
              "item_id": 1
            }
          ],
          "base_uri": "https://localhost:8080/",
          "height": 34
        },
        "outputId": "d1706b5a-0338-4e99-8a39-2c64cae89165",
        "executionInfo": {
          "status": "ok",
          "timestamp": 1522765732308,
          "user_tz": -330,
          "elapsed": 934,
          "user": {
            "displayName": "karthic rao",
            "photoUrl": "//lh4.googleusercontent.com/-IjQPV2IT_dg/AAAAAAAAAAI/AAAAAAAAAKY/koCnnupHc0Y/s50-c-k-no/photo.jpg",
            "userId": "117034387844131328042"
          }
        }
      },
      "cell_type": "code",
      "source": [
        "import tensorflow as tf\n",
        "\n",
        "# Create TensorFlow object called hello_constant\n",
        "hello_constant = tf.constant('Hello World!')\n",
        "\n",
        "with tf.Session() as sess:\n",
        "    # Run the tf.constant operation in the session\n",
        "    output = sess.run(hello_constant)\n",
        "    print(output)"
      ],
      "execution_count": 8,
      "outputs": [
        {
          "output_type": "stream",
          "text": [
            "Hello World!\n"
          ],
          "name": "stdout"
        }
      ]
    },
    {
      "metadata": {
        "id": "WXjYN-_P4y0C",
        "colab_type": "code",
        "colab": {
          "autoexec": {
            "startup": false,
            "wait_interval": 0
          }
        }
      },
      "cell_type": "code",
      "source": [
        ""
      ],
      "execution_count": 0,
      "outputs": []
    }
  ]
}